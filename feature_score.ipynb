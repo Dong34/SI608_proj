{
 "cells": [
  {
   "cell_type": "code",
   "execution_count": 16,
   "id": "ee368129",
   "metadata": {},
   "outputs": [],
   "source": [
    "import pandas as pd\n",
    "import numpy as np\n",
    "from numpy import mean,std,absolute,arange\n",
    "from sklearn.linear_model import LinearRegression,Lasso, LassoCV\n",
    "from sklearn.model_selection import cross_val_score,RepeatedKFold,train_test_split\n",
    "from sklearn.metrics import mean_absolute_error"
   ]
  },
  {
   "cell_type": "code",
   "execution_count": 2,
   "id": "3e729e61",
   "metadata": {},
   "outputs": [
    {
     "data": {
      "text/plain": [
       "array(['R - 17+ (violence & profanity)', 'PG-13 - Teens 13 or older',\n",
       "       'R+ - Mild Nudity', 'PG - Children', 'G - All Ages', 'None'],\n",
       "      dtype=object)"
      ]
     },
     "execution_count": 2,
     "metadata": {},
     "output_type": "execute_result"
    }
   ],
   "source": [
    "animes_df = pd.read_csv(\"Anime.csv\").dropna().reset_index(drop=True)\n",
    "animes_df['Rating'].unique()"
   ]
  },
  {
   "cell_type": "code",
   "execution_count": 3,
   "id": "eec6f371",
   "metadata": {},
   "outputs": [],
   "source": [
    "def trans_rating(rating):\n",
    "    if (rating == \"None\"):\n",
    "        return 0\n",
    "    elif (rating == \"PG - Children\"):\n",
    "        return 1\n",
    "    elif (rating == \"G - All Ages\"):\n",
    "        return 2\n",
    "    elif (rating == \"PG-13 - Teens 13 or older\"):\n",
    "        return 3\n",
    "    elif (rating == \"R - 17+ (violence & profanity)\"):\n",
    "        return 4\n",
    "    elif (rating == \"R+ - Mild Nudity\"):\n",
    "        return 5"
   ]
  },
  {
   "cell_type": "code",
   "execution_count": 4,
   "id": "4a99371b",
   "metadata": {},
   "outputs": [
    {
     "name": "stderr",
     "output_type": "stream",
     "text": [
      "/tmp/ipykernel_730408/4286655582.py:3: SettingWithCopyWarning: \n",
      "A value is trying to be set on a copy of a slice from a DataFrame.\n",
      "Try using .loc[row_indexer,col_indexer] = value instead\n",
      "\n",
      "See the caveats in the documentation: https://pandas.pydata.org/pandas-docs/stable/user_guide/indexing.html#returning-a-view-versus-a-copy\n",
      "  anime_feature['rating_level'] = anime_feature['Rating'].apply(lambda x: trans_rating(x))\n"
     ]
    }
   ],
   "source": [
    "anime_feature = animes_df[['ID','Title','Popularity','Duration_Minutes',\n",
    "                          'Rating','Score','Scored_Users','Members','Favorites','Episodes']]\n",
    "anime_feature['rating_level'] = anime_feature['Rating'].apply(lambda x: trans_rating(x))"
   ]
  },
  {
   "cell_type": "code",
   "execution_count": 5,
   "id": "72043229",
   "metadata": {},
   "outputs": [],
   "source": [
    "features = anime_feature[['Members','Favorites','rating_level']]\n",
    "scores = anime_feature['Score']"
   ]
  },
  {
   "cell_type": "code",
   "execution_count": 6,
   "id": "ae82c109",
   "metadata": {},
   "outputs": [],
   "source": [
    "# Linear regression\n",
    "feature_train, feature_test, score_train, score_test = train_test_split(features, scores, test_size=0.2, random_state=42)\n",
    "lreg = LinearRegression().fit(feature_train, score_train)\n",
    "lreg_pred = lreg.predict(feature_test)"
   ]
  },
  {
   "cell_type": "code",
   "execution_count": 7,
   "id": "58a230c5",
   "metadata": {},
   "outputs": [],
   "source": [
    "# LASSO regression\n",
    "lasso_model = Lasso(alpha=0.1)\n",
    "lasso_model.fit(feature_train,score_train)\n",
    "lasso_pred = lasso_model.predict(feature_test)"
   ]
  },
  {
   "cell_type": "code",
   "execution_count": 8,
   "id": "eb3da059",
   "metadata": {},
   "outputs": [],
   "source": [
    "# Ridge model\n",
    "from sklearn.linear_model import Ridge,RidgeCV\n",
    "ridge_model = Ridge(alpha=0.1)\n",
    "ridge_model.fit(feature_train,score_train)\n",
    "ridge_pred = ridge_model.predict(feature_test)"
   ]
  },
  {
   "cell_type": "code",
   "execution_count": 9,
   "id": "a0cf7292",
   "metadata": {},
   "outputs": [],
   "source": [
    "# Decision Tree Regressor\n",
    "from sklearn.tree import DecisionTreeRegressor\n",
    "regressor = DecisionTreeRegressor(random_state=0)\n",
    "regressor.fit(feature_train,score_train)\n",
    "dt_pred = regressor.predict(feature_test)"
   ]
  },
  {
   "cell_type": "code",
   "execution_count": 10,
   "id": "832484d9",
   "metadata": {},
   "outputs": [],
   "source": [
    "# Random Forest Regressor\n",
    "from sklearn.ensemble import RandomForestRegressor\n",
    "rfregressor = RandomForestRegressor(n_estimators = 100, random_state = 0)\n",
    "rfregressor.fit(feature_train,score_train)\n",
    "rf_pred = rfregressor.predict(feature_test)"
   ]
  },
  {
   "cell_type": "code",
   "execution_count": 11,
   "id": "9705a9d3",
   "metadata": {},
   "outputs": [],
   "source": [
    "# Gradient Boosting Regressor\n",
    "from sklearn.ensemble import GradientBoostingRegressor\n",
    "gbregressor = GradientBoostingRegressor(n_estimators = 100, random_state = 0)\n",
    "gbregressor.fit(feature_train,score_train)\n",
    "gb_pred = gbregressor.predict(feature_test)"
   ]
  },
  {
   "cell_type": "code",
   "execution_count": 12,
   "id": "fa1579cc",
   "metadata": {},
   "outputs": [],
   "source": [
    "# AdaBoost Regressor\n",
    "from sklearn.ensemble import AdaBoostRegressor\n",
    "adareg = AdaBoostRegressor(n_estimators = 100, random_state = 0)\n",
    "adareg.fit(feature_train,score_train)\n",
    "ada_pred = adareg.predict(feature_test)"
   ]
  },
  {
   "cell_type": "code",
   "execution_count": 13,
   "id": "636836de",
   "metadata": {},
   "outputs": [],
   "source": [
    "# XGBoost Regressor\n",
    "import xgboost as xg\n",
    "xgreg = xg.XGBRegressor().fit(feature_train,score_train)\n",
    "xg_pred = xgreg.predict(feature_test)"
   ]
  },
  {
   "cell_type": "code",
   "execution_count": 14,
   "id": "78fe2ad1",
   "metadata": {},
   "outputs": [],
   "source": [
    "# MLP Regressor\n",
    "from sklearn.neural_network import MLPRegressor\n",
    "mlpreg = MLPRegressor().fit(feature_train, score_train)\n",
    "mlp_pred = mlpreg.predict(feature_test)"
   ]
  },
  {
   "cell_type": "code",
   "execution_count": 18,
   "id": "6d61fde9",
   "metadata": {},
   "outputs": [
    {
     "name": "stdout",
     "output_type": "stream",
     "text": [
      "--------------------------Result------------------------------\n",
      "linear model:  0.6737309648524457\n",
      "LASSO model:  0.6819445249573495\n",
      "Ridge model:  0.6737309926640757\n",
      "Decision Tree Regressor:  0.6465828216935278\n",
      "Random Forest Regressor:  0.5078109391999623\n",
      "Gradient Boosting Regressor: 0.45528009119468227\n",
      "AdaBoost Regressor:  0.5786858439183742\n",
      "XGBoost Regressor:  0.47178849681084284\n",
      "MLP Regressor:  5.68361254869218\n"
     ]
    }
   ],
   "source": [
    "print(\"--------------------------Result------------------------------\")\n",
    "print(\"linear model: \",mean_absolute_error(score_test,lreg_pred))\n",
    "print(\"LASSO model: \",mean_absolute_error(score_test,lasso_pred))\n",
    "print(\"Ridge model: \",mean_absolute_error(score_test,ridge_pred))\n",
    "print(\"Decision Tree Regressor: \",mean_absolute_error(score_test,dt_pred))\n",
    "print(\"Random Forest Regressor: \",mean_absolute_error(score_test,rf_pred))\n",
    "print(\"Gradient Boosting Regressor:\",mean_absolute_error(score_test,gb_pred))\n",
    "print(\"AdaBoost Regressor: \",mean_absolute_error(score_test,ada_pred))\n",
    "print(\"XGBoost Regressor: \",mean_absolute_error(score_test,xg_pred))\n",
    "print(\"MLP Regressor: \",mean_absolute_error(score_test,mlp_pred))"
   ]
  }
 ],
 "metadata": {
  "kernelspec": {
   "display_name": "Python 3",
   "language": "python",
   "name": "python3"
  },
  "language_info": {
   "codemirror_mode": {
    "name": "ipython",
    "version": 3
   },
   "file_extension": ".py",
   "mimetype": "text/x-python",
   "name": "python",
   "nbconvert_exporter": "python",
   "pygments_lexer": "ipython3",
   "version": "3.10.4"
  }
 },
 "nbformat": 4,
 "nbformat_minor": 5
}
