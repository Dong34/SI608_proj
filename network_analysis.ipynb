{
 "cells": [
  {
   "cell_type": "code",
   "execution_count": 5,
   "metadata": {},
   "outputs": [],
   "source": [
    "import pandas as pd\n",
    "import networkx as nx\n",
    "import itertools\n",
    "import collections\n",
    "import matplotlib.pyplot as plt"
   ]
  },
  {
   "cell_type": "code",
   "execution_count": 14,
   "metadata": {},
   "outputs": [
    {
     "name": "stdout",
     "output_type": "stream",
     "text": [
      "Graph with 1224 nodes and 13434 edges\n"
     ]
    },
    {
     "name": "stderr",
     "output_type": "stream",
     "text": [
      "C:\\Users\\28228\\AppData\\Local\\Temp\\ipykernel_55676\\3017861093.py:2: DeprecationWarning: info is deprecated and will be removed in version 3.0.\n",
      "\n",
      "  print(nx.info(G))\n"
     ]
    }
   ],
   "source": [
    "G = nx.read_gml('./networks/producers_network.gml')\n",
    "print(nx.info(G))"
   ]
  },
  {
   "cell_type": "markdown",
   "metadata": {},
   "source": [
    "## Basic properties"
   ]
  },
  {
   "cell_type": "code",
   "execution_count": 12,
   "metadata": {},
   "outputs": [
    {
     "data": {
      "image/png": "[encoded data removed]",
      "text/plain": [
       "<Figure size 432x288 with 1 Axes>"
      ]
     },
     "metadata": {},
     "output_type": "display_data"
    }
   ],
   "source": [
    "nx.draw(G)\n",
    "plt.show()"
   ]
  },
  {
   "cell_type": "markdown",
   "metadata": {},
   "source": [
    "### treated as unweighted properties"
   ]
  },
  {
   "cell_type": "code",
   "execution_count": 35,
   "metadata": {},
   "outputs": [
    {
     "name": "stdout",
     "output_type": "stream",
     "text": [
      "density: 0.017948471293668736\n",
      "--------------------------------------------------\n",
      "top5 inflential nodes using degree centrality:\n",
      "AT-X 0.2583810302534751\n",
      "Pony Canyon 0.23466884709730174\n",
      "Movic 0.22730989370400656\n",
      "Tokyo MX 0.2224039247751431\n",
      "TV Tokyo 0.21913327882256747\n",
      "Lantis 0.21749795584627965\n",
      "--------------------------------------------------\n",
      "top5 inflential nodes using closeness centrality:\n",
      "AT-X 0.5071482977740093\n",
      "Pony Canyon 0.5048133608597644\n",
      "Dentsu 0.49703291921460024\n",
      "Lantis 0.49680771172968197\n",
      "TV Tokyo 0.49434383218548605\n",
      "Sotsu 0.49323194772263074\n",
      "--------------------------------------------------\n",
      "top5 inflential nodes using betweenness centrality:\n",
      "bilibili 0.08002440583688122\n",
      "TV Tokyo 0.056058328555515756\n",
      "DAX Production 0.0457001116217514\n",
      "Pony Canyon 0.04298733407112586\n",
      "AT-X 0.04073530815744405\n",
      "Lantis 0.038661529500321916\n"
     ]
    }
   ],
   "source": [
    "# density\n",
    "print(\"density:\", nx.density(G))\n",
    "\n",
    "#Sort for identifying top10 inflential nodes using degree centrality\n",
    "print(\"--------------------------------------------------\")\n",
    "degree_centrality = nx.degree_centrality(G)\n",
    "rank = 0\n",
    "print(\"top5 inflential nodes using degree centrality:\")\n",
    "for node in sorted(degree_centrality, key=degree_centrality.get, reverse=True):\n",
    "    print(node, degree_centrality[node])\n",
    "    rank+=1\n",
    "    if rank > 5:\n",
    "        break\n",
    "\n",
    "#Sort for identifying top10 inflential nodes using closeness_centrality\n",
    "print(\"--------------------------------------------------\")\n",
    "closeness_centrality = nx.closeness_centrality(G)\n",
    "rank = 0\n",
    "print(\"top5 inflential nodes using closeness centrality:\")\n",
    "for node in sorted(closeness_centrality, key=closeness_centrality.get, reverse=True):\n",
    "    print(node, closeness_centrality[node])\n",
    "    rank+=1\n",
    "    if rank > 5:\n",
    "        break\n",
    "\n",
    "print(\"--------------------------------------------------\")\n",
    "betweenness_centrality = nx.betweenness_centrality(G)\n",
    "rank = 0\n",
    "print(\"top5 inflential nodes using betweenness centrality:\")\n",
    "for node in sorted(betweenness_centrality, key=betweenness_centrality.get, reverse=True):\n",
    "    print(node, betweenness_centrality[node])\n",
    "    rank+=1\n",
    "    if rank > 5:\n",
    "        break\n",
    "\n"
   ]
  },
  {
   "cell_type": "code",
   "execution_count": 29,
   "metadata": {},
   "outputs": [
    {
     "data": {
      "text/plain": [
       "(array([1.148e+03, 3.900e+01, 1.600e+01, 6.000e+00, 5.000e+00, 3.000e+00,\n",
       "        1.000e+00, 4.000e+00, 1.000e+00, 1.000e+00]),\n",
       " array([1.0000e+00, 1.9370e+02, 3.8640e+02, 5.7910e+02, 7.7180e+02,\n",
       "        9.6450e+02, 1.1572e+03, 1.3499e+03, 1.5426e+03, 1.7353e+03,\n",
       "        1.9280e+03]),\n",
       " <BarContainer object of 10 artists>)"
      ]
     },
     "execution_count": 29,
     "metadata": {},
     "output_type": "execute_result"
    },
    {
     "data": {
      "image/png": "[encoded data removed]",
      "text/plain": [
       "<Figure size 432x288 with 1 Axes>"
      ]
     },
     "metadata": {
      "needs_background": "light"
     },
     "output_type": "display_data"
    }
   ],
   "source": [
    "#Degree plot for undirected and unweighted graph\n",
    "degrees = [G.degree(n, weight='weight') for n in G.nodes()]\n",
    "plt.hist(degrees)"
   ]
  },
  {
   "cell_type": "markdown",
   "metadata": {},
   "source": [
    "### treated as weighted properties"
   ]
  },
  {
   "cell_type": "code",
   "execution_count": 37,
   "metadata": {},
   "outputs": [
    {
     "name": "stdout",
     "output_type": "stream",
     "text": [
      "--------------------------------------------------\n",
      "top5 highest clustering nodes:\n",
      "Innocent Grey 0.06735883945209016\n",
      "Wanda Media 0.048034371411881965\n",
      "Image House 0.04243340986108882\n",
      "Fujiko F. Fujio Pro 0.04238921386679804\n",
      "Bee Media 0.04227740326940721\n",
      "Kobunsha 0.039112106957956985\n",
      "--------------------------------------------------\n",
      "top5 degree connectivity nodes:\n",
      "54 163.2874251497006\n",
      "115 163.04458598726114\n",
      "116 157.75175644028104\n",
      "82 154.29857819905214\n",
      "102 153.02522255192878\n",
      "155 152.10640495867767\n"
     ]
    }
   ],
   "source": [
    "print(\"--------------------------------------------------\")\n",
    "clustering_coefficients = nx.clustering(G, weight='weight')\n",
    "rank = 0\n",
    "print(\"top5 highest clustering nodes:\")\n",
    "for node in sorted(clustering_coefficients, key=clustering_coefficients.get, reverse=True):\n",
    "    print(node, clustering_coefficients[node])\n",
    "    rank+=1\n",
    "    if rank > 5:\n",
    "        break\n",
    "\n",
    "print(\"--------------------------------------------------\")\n",
    "# nx.average_degree_connectivity(G, weight='weight') \n",
    "# Returns:\n",
    "# d:dict\n",
    "# A dictionary keyed by degree k with the value of average connectivity.\n",
    "degree_connectivity = nx.average_degree_connectivity(G, weight='weight')\n",
    "\n",
    "rank = 0\n",
    "print(\"top5 degree connectivity nodes:\")\n",
    "for degree in sorted(degree_connectivity, key=degree_connectivity.get, reverse=True):\n",
    "    print(degree, degree_connectivity[degree])\n",
    "    rank+=1\n",
    "    if rank > 5:\n",
    "        break\n"
   ]
  },
  {
   "cell_type": "code",
   "execution_count": null,
   "metadata": {},
   "outputs": [],
   "source": []
  }
 ],
 "metadata": {
  "kernelspec": {
   "display_name": "Python 3.10.4 ('my_envs')",
   "language": "python",
   "name": "python3"
  },
  "language_info": {
   "codemirror_mode": {
    "name": "ipython",
    "version": 3
   },
   "file_extension": ".py",
   "mimetype": "text/x-python",
   "name": "python",
   "nbconvert_exporter": "python",
   "pygments_lexer": "ipython3",
   "version": "3.10.4"
  },
  "orig_nbformat": 4,
  "vscode": {
   "interpreter": {
    "hash": "19556a53c99b2434ca7302362a27e9a00c2d6403294ec0ea4ae3d6a33903e24a"
   }
  }
 },
 "nbformat": 4,
 "nbformat_minor": 2
}
