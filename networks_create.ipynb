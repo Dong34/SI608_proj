{
 "cells": [
  {
   "cell_type": "code",
   "execution_count": 1,
   "metadata": {},
   "outputs": [],
   "source": [
    "import pandas as pd\n",
    "import networkx as nx\n",
    "import itertools\n",
    "import collections"
   ]
  },
  {
   "cell_type": "markdown",
   "metadata": {},
   "source": [
    "### Load the dataset"
   ]
  },
  {
   "cell_type": "code",
   "execution_count": 2,
   "metadata": {},
   "outputs": [],
   "source": [
    "animes_df = pd.read_csv(\"Anime.csv\")"
   ]
  },
  {
   "cell_type": "markdown",
   "metadata": {},
   "source": [
    "### Producers network"
   ]
  },
  {
   "cell_type": "code",
   "execution_count": 6,
   "metadata": {},
   "outputs": [
    {
     "name": "stdout",
     "output_type": "stream",
     "text": [
      "Name: \n",
      "Type: Graph\n",
      "Number of nodes: 1224\n",
      "Number of edges: 13434\n",
      "Average degree:  21.9510\n"
     ]
    }
   ],
   "source": [
    "# split the producers\n",
    "animes_producers_df = animes_df.assign(Producers=animes_df[\"Producers\"].str.split(\", \")).explode(\"Producers\")\n",
    "# remove the unknown producer rows\n",
    "animes_producers_df = animes_producers_df[animes_producers_df[\"Producers\"]!=\"Unknown\"]\n",
    "# find the producer cooperation pairs\n",
    "all_pairs = []\n",
    "animes_producers_only_df = animes_producers_df.groupby(\"ID\")[\"Producers\"].agg([lambda x: set(x)]).reset_index().rename(columns={\"<lambda>\":\"Producer Set\"})\n",
    "for i in list(animes_producers_only_df[\"Producer Set\"]):\n",
    "    all_pairs.extend([frozenset(j) for j in itertools.combinations(i, 2)])\n",
    "all_pairs_weight_dict = dict(collections.Counter(all_pairs))\n",
    "# create the producer dataframe used for network\n",
    "producers_weighted_df = pd.DataFrame.from_dict(all_pairs_weight_dict, orient=\"index\").reset_index().rename(columns={\"index\":\"tuple\",0:\"weight\"})\n",
    "producers_weighted_df[[\"Src\", \"Dest\"]] = pd.DataFrame(producers_weighted_df[\"tuple\"].tolist(), index=producers_weighted_df.index)\n",
    "# create the network\n",
    "producers_network = nx.from_pandas_edgelist(producers_weighted_df, \"Src\", \"Dest\", [\"weight\"])\n",
    "print(nx.info(producers_network))\n",
    "nx.write_gml(producers_network, \"networks/producers_network.gml\")"
   ]
  },
  {
   "cell_type": "code",
   "execution_count": null,
   "metadata": {},
   "outputs": [],
   "source": []
  }
 ],
 "metadata": {
  "kernelspec": {
   "display_name": "Python 3.8.5 ('base')",
   "language": "python",
   "name": "python3"
  },
  "language_info": {
   "codemirror_mode": {
    "name": "ipython",
    "version": 3
   },
   "file_extension": ".py",
   "mimetype": "text/x-python",
   "name": "python",
   "nbconvert_exporter": "python",
   "pygments_lexer": "ipython3",
   "version": "3.8.5"
  },
  "orig_nbformat": 4,
  "vscode": {
   "interpreter": {
    "hash": "d802afc020482effc208fb85b4f477288376675f6c5418a4bcad3af04517afbb"
   }
  }
 },
 "nbformat": 4,
 "nbformat_minor": 2
}
